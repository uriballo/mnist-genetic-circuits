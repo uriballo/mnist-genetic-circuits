{
 "cells": [
  {
   "cell_type": "code",
   "execution_count": 14,
   "metadata": {},
   "outputs": [],
   "source": [
    "import pennylane as qml\n",
    "from pennylane import numpy as np\n",
    "import matplotlib.pyplot as plt\n",
    "import random\n",
    "import time\n",
    "\n",
    "import torch\n",
    "import torch.nn as nn\n",
    "import torch.optim as optim\n",
    "from torchvision import datasets, transforms\n",
    "import torch.nn.functional as F\n",
    "from torch.utils.data import DataLoader"
   ]
  },
  {
   "cell_type": "code",
   "execution_count": 15,
   "metadata": {},
   "outputs": [],
   "source": [
    "n_train = 6000\n",
    "n_test = 1000\n",
    "batch_size = 256"
   ]
  },
  {
   "cell_type": "code",
   "execution_count": 16,
   "metadata": {},
   "outputs": [],
   "source": [
    "def get_batch_jacobian(net, x, target):\n",
    "    net.zero_grad()\n",
    "    x.requires_grad_(True)\n",
    "    y = net(x)\n",
    "    \n",
    "    y.backward(torch.ones_like(y))\n",
    "    jacobian = x.grad.detach()\n",
    "    return jacobian, target.detach()"
   ]
  },
  {
   "cell_type": "code",
   "execution_count": 17,
   "metadata": {},
   "outputs": [],
   "source": [
    "def eval_score(jacob):\n",
    "    correlations = np.corrcoef(jacob)\n",
    "    v, _ = np.linalg.eig(correlations)\n",
    "    k = 1e-5\n",
    "    return -np.sum(np.log(v + k) + 1./(v + k))"
   ]
  },
  {
   "cell_type": "code",
   "execution_count": 18,
   "metadata": {},
   "outputs": [
    {
     "name": "stdout",
     "output_type": "stream",
     "text": [
      "Number of training samples: 6000\n",
      "Number of test samples: 1000\n"
     ]
    }
   ],
   "source": [
    "def load_dataset(n_train, n_test, batch_size):\n",
    "    \"\"\"\n",
    "    Loads train & test sets from MNIST with user-specified sizes.\n",
    "\n",
    "    Args:\n",
    "        n_train (int): Desired number of samples in the training set.\n",
    "        n_test (int): Desired number of samples in the testing set.\n",
    "        batch_size (int): Batch size for the DataLoaders.\n",
    "\n",
    "    Returns:\n",
    "        tuple: (train_loader, test_loader) where each loader is a\n",
    "               torch.utils.data.DataLoader.\n",
    "    \"\"\"\n",
    "    # Define transformations for the dataset\n",
    "    transform = transforms.Compose([transforms.ToTensor(), \n",
    "                                    transforms.Normalize((0.1307,), (0.1381,)),\n",
    "                                    transforms.Lambda(lambda img: F.interpolate(img.unsqueeze(0), size=(14, 14), \n",
    "                                        mode='bilinear', align_corners=False).squeeze(0))])\n",
    "\n",
    "    train_dataset = datasets.MNIST(root='./data', train=True, download=True, transform=transform)\n",
    "    test_dataset = datasets.MNIST(root='./data', train=False, download=True, transform=transform)\n",
    "\n",
    "    # Subset the datasets to the desired number of samples\n",
    "    train_subset = torch.utils.data.Subset(train_dataset, range(n_train))\n",
    "    test_subset = torch.utils.data.Subset(test_dataset, range(n_test))\n",
    "\n",
    "    # Create DataLoaders for training and testing sets\n",
    "    train_loader = DataLoader(train_subset, batch_size=batch_size, shuffle=True)\n",
    "    test_loader = DataLoader(test_subset, batch_size=batch_size, shuffle=False)\n",
    "\n",
    "    print(\"Number of training samples:\", len(train_subset))\n",
    "    print(\"Number of test samples:\", len(test_subset))\n",
    "\n",
    "    return train_loader, test_loader\n",
    "\n",
    "train_loader, test_loader = load_dataset(n_train, n_test, batch_size)"
   ]
  },
  {
   "cell_type": "code",
   "execution_count": 19,
   "metadata": {},
   "outputs": [],
   "source": [
    "def extract_image_patches(x):\n",
    "    # Do TF 'SAME' Padding\n",
    "    B, C, H, W = x.shape  \n",
    "    #x = torch.arange(B*C*H*W).view(B, C, H, W)\n",
    "    kernel_h, kernel_w = 2, 2\n",
    "    stride = 2\n",
    "\n",
    "    patches = x.unfold(2, kernel_h, stride).unfold(3, kernel_w, stride)\n",
    "      \n",
    "    patches = patches.contiguous().view(B, H // stride, W // stride, -1)\n",
    "\n",
    "    return patches.reshape(-1, 4)"
   ]
  },
  {
   "cell_type": "code",
   "execution_count": 20,
   "metadata": {},
   "outputs": [],
   "source": [
    "def get_random_gate():\n",
    "    gate = np.random.randint(1, 5) # 1..4\n",
    "    wire1 = np.random.randint(0, 4) # 0..3\n",
    "    wire2 = np.random.randint(0, 4) # 0..3\n",
    "    if gate == 3:\n",
    "        while wire1 == wire2:\n",
    "            wire2 = np.random.randint(0, 4)\n",
    "              \n",
    "    return 100 * gate + 10 * wire1 + wire2\n",
    "\n",
    "def generate_circuit(n_gates):\n",
    "    circuit = []\n",
    "    n_weights = 0\n",
    "    fitness = 0\n",
    "    for _ in range(n_gates):\n",
    "        gate = get_random_gate()\n",
    "        if (gate // 100) % 10 in [1, 2]:\n",
    "            n_weights += 1\n",
    "        circuit.append(gate)\n",
    "    return (circuit, fitness, n_weights) \n",
    "\n",
    "\n",
    "def encode_gate(gate):\n",
    "    if isinstance(gate, qml.RX):\n",
    "        return 100 + gate.wires[0] * 10 \n",
    "    elif isinstance(gate, qml.RZ):\n",
    "        return 200 + gate.wires[0] * 10 \n",
    "    elif isinstance(gate, qml.CNOT):\n",
    "        return 300 + gate.wires[0] * 10 + gate.wires[1] * 1 \n",
    "    elif isinstance(gate, qml.Hadamard):\n",
    "        return 400 + gate.wires[0] * 10 \n",
    "    else:\n",
    "        print(gate)\n",
    "        raise Exception(\"Invalid gate\")\n",
    "    \n",
    "def decode_gate(encoded_gate, param):\n",
    "    \"\"\"\n",
    "    D D D\n",
    "        - Gate   [1..4]\n",
    "        - Wire 1 [0..N_QUBITS-1]\n",
    "        - Wire 2 [0..N_QUBITS-1]\n",
    "    \"\"\"\n",
    "    encoded_gate = int(encoded_gate.item()) # Convert tensor to int to be able to use adjoint differentiation\n",
    "    wire2  = encoded_gate % 10\n",
    "    wire1 = (encoded_gate // 10) % 10\n",
    "    gate = (encoded_gate // 100) % 10\n",
    "    \n",
    "    if gate == 1:\n",
    "        return qml.RX(param, wires=wire1)\n",
    "    elif gate == 2:\n",
    "        return qml.RZ(param, wires=wire1)\n",
    "    elif gate == 3:\n",
    "        return qml.CNOT(wires=[wire1, wire2])\n",
    "    elif gate == 4:\n",
    "        return qml.Hadamard(wires=wire1)\n",
    "    else:\n",
    "        print(encoded_gate)\n",
    "        raise Exception(\"Invalid gate\")"
   ]
  },
  {
   "cell_type": "code",
   "execution_count": 21,
   "metadata": {},
   "outputs": [],
   "source": [
    "out_dims_xy = 7\n",
    "\n",
    "dev = qml.device(\"lightning.qubit\", wires=4)\n",
    "\n",
    "@qml.qnode(dev, interface=\"torch\", diff_method=\"adjoint\")\n",
    "def circuit(inputs, weights):\n",
    "    # Encoding of 4 classical input values\n",
    "    for j in range(4):\n",
    "        qml.RY(np.pi * inputs[j], wires=j)\n",
    "    \n",
    "    qml.RX(weights[0], wires=0)\n",
    "    qml.RX(weights[1], wires=1)\n",
    "\n",
    "    qml.CNOT(wires=[2, 3])\n",
    "    qml.CNOT(wires=[0, 2])\n",
    "    qml.CNOT(wires=[0, 3])\n",
    "    \n",
    "    qml.RY(weights[2], wires=0)\n",
    "    qml.RY(weights[3], wires=3)\n",
    "\n",
    "    # Measurement producing 4 classical output values\n",
    "    return [qml.expval(qml.PauliZ(j)) for j in range(4)]\n",
    "\n",
    "qlayer = qml.qnn.TorchLayer(circuit, {\"weights\": (4,)})\n",
    "dim = 14 // 2\n",
    "class HQNN(nn.Module):\n",
    "    def __init__(self):\n",
    "        super(HQNN, self).__init__()\n",
    "\n",
    "        # Quanvolutional layer (Maps 1 input channel to 4 output channels)\n",
    "        self.quanv = qlayer\n",
    "\n",
    "        # Fully connected layer to perform the final classification\n",
    "        self.fc1 = nn.Linear(dim * dim * 4, 1)  # Assuming 10 output classes\n",
    "\n",
    "    def forward(self, input):\n",
    "        patches = extract_image_patches(input)  \n",
    "\n",
    "        \n",
    "        quanvoluted_patches = torch.stack([self.quanv(patch) for patch in patches])\n",
    "        x = quanvoluted_patches.reshape(input.shape[0], dim, dim, 4)\n",
    "\n",
    "        x = x.view(-1, dim * dim * 4)  # Flatten for the fully connected layer\n",
    "        x = self.fc1(x)\n",
    "        return x"
   ]
  },
  {
   "cell_type": "code",
   "execution_count": 22,
   "metadata": {},
   "outputs": [
    {
     "name": "stdout",
     "output_type": "stream",
     "text": [
      "Array must not contain infs or NaNs\n",
      "nan\n"
     ]
    },
    {
     "name": "stderr",
     "output_type": "stream",
     "text": [
      "/Library/Frameworks/Python.framework/Versions/3.11/lib/python3.11/site-packages/numpy/lib/function_base.py:2897: RuntimeWarning: invalid value encountered in divide\n",
      "  c /= stddev[:, None]\n"
     ]
    }
   ],
   "source": [
    "net = HQNN()\n",
    "\n",
    "\n",
    "data_iterators = iter(train_loader)\n",
    "x, target = next(data_iterators)\n",
    "\n",
    "jacobian, labels = get_batch_jacobian(net, x, target)\n",
    "jacobian = jacobian.reshape(batch_size, -1)\n",
    "\n",
    "try:\n",
    "    s = eval_score(jacobian)\n",
    "except Exception as e:\n",
    "    print(e)\n",
    "    s = np.nan\n",
    "    \n",
    "print(s)"
   ]
  },
  {
   "cell_type": "code",
   "execution_count": 23,
   "metadata": {},
   "outputs": [],
   "source": [
    "dev = qml.device('lightning.qubit', wires=4)\n",
    "\n",
    "@qml.qnode(dev,interface=\"torch\", diff_method=\"adjoint\")\n",
    "def circuit(inputs, weights):\n",
    "    # Encoding of 4 classical input values\n",
    "    for j in range(4):\n",
    "        qml.RY(np.pi * inputs[j], wires=j)\n",
    "\n",
    "    for i in range (2):\n",
    "        qml.CNOT(wires=[0, 2])\n",
    "        qml.CNOT(wires=[1, 3])\n",
    "        qml.RZ(weights[0+i], wires=3 -i)\n",
    "        qml.RX(weights[1 + i], wires=1- i)\n",
    "        qml.CNOT(wires=[3-i, 2- i])\n",
    "        qml.CNOT(wires=[1, 0])\n",
    "        qml.RZ(weights[2+ i], wires=1-i)\n",
    "        qml.Hadamard(wires=3-i)\n",
    "\n",
    "    # Measurement producing 4 classical output values\n",
    "    return [qml.expval(qml.PauliZ(j)) for j in range(4)]"
   ]
  },
  {
   "cell_type": "code",
   "execution_count": 24,
   "metadata": {},
   "outputs": [],
   "source": [
    "qlayer = qml.qnn.TorchLayer(circuit, {\"weights\": (6,)})\n",
    "dim = 14 // 2\n",
    "class HQNN(nn.Module):\n",
    "    def __init__(self):\n",
    "        super(HQNN, self).__init__()\n",
    "\n",
    "        # Quanvolutional layer (Maps 1 input channel to 4 output channels)\n",
    "        self.quanv = qlayer\n",
    "\n",
    "        # Fully connected layer to perform the final classification\n",
    "        self.fc1 = nn.Linear(dim * dim * 4, 1)  # Assuming 10 output classes\n",
    "\n",
    "    def forward(self, input):\n",
    "        patches = extract_image_patches(input)  \n",
    "\n",
    "        \n",
    "        quanvoluted_patches = torch.stack([self.quanv(patch) for patch in patches])\n",
    "        x = quanvoluted_patches.reshape(input.shape[0], dim, dim, 4)\n",
    "\n",
    "        x = x.view(-1, dim * dim * 4)  # Flatten for the fully connected layer\n",
    "        x = self.fc1(x)\n",
    "        #x = F.relu(x)  \n",
    "        return x"
   ]
  },
  {
   "cell_type": "code",
   "execution_count": 25,
   "metadata": {},
   "outputs": [
    {
     "name": "stdout",
     "output_type": "stream",
     "text": [
      "(-8435912.095733166-6.776263578034403e-21j)\n"
     ]
    }
   ],
   "source": [
    "net = HQNN()\n",
    "\n",
    "\n",
    "data_iterators = iter(train_loader)\n",
    "x, target = next(data_iterators)\n",
    "\n",
    "jacobian, labels = get_batch_jacobian(net, x, target)\n",
    "jacobian = jacobian.reshape(batch_size, -1)\n",
    "\n",
    "try:\n",
    "    s2 = eval_score(jacobian)\n",
    "except Exception as e:\n",
    "    print(e)\n",
    "    s2 = np.nan\n",
    "    \n",
    "print(s2)"
   ]
  },
  {
   "cell_type": "code",
   "execution_count": 26,
   "metadata": {},
   "outputs": [
    {
     "name": "stdout",
     "output_type": "stream",
     "text": [
      "False\n"
     ]
    }
   ],
   "source": [
    "print (s2 > s)"
   ]
  }
 ],
 "metadata": {
  "kernelspec": {
   "display_name": "Python 3",
   "language": "python",
   "name": "python3"
  },
  "language_info": {
   "codemirror_mode": {
    "name": "ipython",
    "version": 3
   },
   "file_extension": ".py",
   "mimetype": "text/x-python",
   "name": "python",
   "nbconvert_exporter": "python",
   "pygments_lexer": "ipython3",
   "version": "3.11.7"
  }
 },
 "nbformat": 4,
 "nbformat_minor": 2
}
