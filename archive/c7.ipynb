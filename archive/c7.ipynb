{
 "cells": [
  {
   "cell_type": "code",
   "execution_count": 1,
   "id": "initial_id",
   "metadata": {
    "ExecuteTime": {
     "end_time": "2024-03-04T21:07:47.497035Z",
     "start_time": "2024-03-04T21:07:44.052410Z"
    },
    "collapsed": true
   },
   "outputs": [],
   "source": [
    "import torch\n",
    "import torchvision.transforms as transforms\n",
    "from torchvision import datasets\n",
    "from torch.utils.data import DataLoader\n",
    "import torch.nn.functional as F\n",
    "import pennylane as qml\n",
    "from pennylane import numpy as np\n",
    "import matplotlib.pyplot as plt\n",
    "import time\n",
    "\n",
    "import torch.nn as nn"
   ]
  },
  {
   "cell_type": "code",
   "execution_count": 2,
   "id": "f56069f2",
   "metadata": {},
   "outputs": [
    {
     "name": "stdout",
     "output_type": "stream",
     "text": [
      "qml.Hadamard(wires=3)\n",
      "qml.RX(weights[0], wires=3)\n",
      "qml.CNOT(wires=[3, 1])\n",
      "qml.RX(weights[1], wires=0)\n",
      "qml.CNOT(wires=[1, 2])\n",
      "qml.Hadamard(wires=0)\n",
      "qml.RX(weights[2], wires=0)\n"
     ]
    }
   ],
   "source": [
    "def decode_to_code(encoded_circuit):\n",
    "    weight_idx = 0\n",
    "    for encoded_gate in encoded_circuit:\n",
    "        wire2  = encoded_gate % 10\n",
    "        wire1 = (encoded_gate // 10) % 10\n",
    "        gate = (encoded_gate // 100) % 10\n",
    "\n",
    "        if gate == 1:\n",
    "            print(f\"qml.RX(weights[{weight_idx}], wires={wire1})\")\n",
    "            weight_idx += 1\n",
    "        elif gate == 2:\n",
    "            print(f\"qml.RZ(weights[{weight_idx}], wires={wire1})\")\n",
    "            weight_idx += 1\n",
    "        elif gate == 3:\n",
    "            print(f\"qml.CNOT(wires=[{wire1}, {wire2}])\")\n",
    "        elif gate == 4:\n",
    "            print(f\"qml.Hadamard(wires={wire1})\")\n",
    "            \n",
    "c =   [431, 132, 331, 102, 312, 401, 101]\n",
    "decode_to_code(c)"
   ]
  },
  {
   "cell_type": "code",
   "execution_count": 3,
   "id": "db5d0afd4c05e6ec",
   "metadata": {
    "ExecuteTime": {
     "end_time": "2024-03-04T21:07:47.509937Z",
     "start_time": "2024-03-04T21:07:47.508054Z"
    },
    "collapsed": false
   },
   "outputs": [],
   "source": [
    "n_train    = 500 \n",
    "n_test     = 100\n",
    "batch_size = 32\n",
    "\n",
    "num_qubits = 4\n",
    "repetitions = 1\n",
    "n_weights =  3 * repetitions\n",
    "\n",
    "n_epochs = 20\n",
    "\n",
    "resized_x = 14\n",
    "resized_y = resized_x"
   ]
  },
  {
   "cell_type": "code",
   "execution_count": 4,
   "id": "bea8c93c94ec71b1",
   "metadata": {
    "ExecuteTime": {
     "end_time": "2024-03-04T21:07:47.522707Z",
     "start_time": "2024-03-04T21:07:47.511481Z"
    },
    "collapsed": false
   },
   "outputs": [],
   "source": [
    "dev = qml.device('lightning.qubit', wires=4)\n",
    "\n",
    "@qml.qnode(dev,interface=\"torch\", diff_method=\"adjoint\")\n",
    "def circuit(inputs, weights):\n",
    "    # Encoding of 4 classical input values\n",
    "    for j in range(num_qubits):\n",
    "        qml.RY(np.pi * inputs[j], wires=j)\n",
    "\n",
    "    qml.Hadamard(wires=3)\n",
    "    qml.RX(weights[0], wires=3)\n",
    "    qml.CNOT(wires=[3, 1])\n",
    "    qml.RX(weights[1], wires=0)\n",
    "    qml.CNOT(wires=[1, 2])\n",
    "    qml.Hadamard(wires=0)\n",
    "    qml.RX(weights[2], wires=0)\n",
    "\n",
    "    # Measurement producing 4 classical output values\n",
    "    return [qml.expval(qml.PauliZ(j)) for j in range(num_qubits)]"
   ]
  },
  {
   "cell_type": "code",
   "execution_count": 5,
   "id": "aede27153e053275",
   "metadata": {
    "ExecuteTime": {
     "end_time": "2024-03-04T21:07:47.889649Z",
     "start_time": "2024-03-04T21:07:47.527205Z"
    },
    "collapsed": false
   },
   "outputs": [],
   "source": [
    "def load_dataset(n_train, n_test, batch_size):\n",
    "    \"\"\"\n",
    "    Loads train & test sets from MNIST with user-specified sizes.\n",
    "\n",
    "    Args:\n",
    "        n_train (int): Desired number of samples in the training set.\n",
    "        n_test (int): Desired number of samples in the testing set.\n",
    "        batch_size (int): Batch size for the DataLoaders.\n",
    "\n",
    "    Returns:\n",
    "        tuple: (train_loader, test_loader) where each loader is a\n",
    "               torch.utils.data.DataLoader.\n",
    "    \"\"\"\n",
    "    # Define transformations for the dataset\n",
    "    transform = transforms.Compose([transforms.ToTensor(), \n",
    "                                    transforms.Normalize((0.5,), (0.5,)),\n",
    "                                    transforms.Lambda(lambda img: F.interpolate(img.unsqueeze(0), size=(resized_x, resized_y), \n",
    "                                        mode='bilinear', align_corners=False).squeeze(0))])\n",
    "\n",
    "    train_dataset = datasets.MNIST(root='./data', train=True, download=True, transform=transform)\n",
    "    test_dataset = datasets.MNIST(root='./data', train=False, download=True, transform=transform)\n",
    "\n",
    "    # Subset the datasets to the desired number of samples\n",
    "    train_subset = torch.utils.data.Subset(train_dataset, range(n_train))\n",
    "    test_subset = torch.utils.data.Subset(test_dataset, range(n_test))\n",
    "\n",
    "    # Create DataLoaders for training and testing sets\n",
    "    train_loader = DataLoader(train_subset, batch_size=batch_size, shuffle=True, pin_memory=True)\n",
    "    test_loader = DataLoader(test_subset, batch_size=batch_size, shuffle=False, pin_memory=True)\n",
    "\n",
    "    print(\"Number of training samples:\", len(train_subset))\n",
    "    print(\"Number of test samples:\", len(test_subset))\n",
    "\n",
    "    return train_loader, test_loader\n"
   ]
  },
  {
   "cell_type": "code",
   "execution_count": 6,
   "id": "e3010e2f368cc931",
   "metadata": {
    "ExecuteTime": {
     "end_time": "2024-03-04T21:07:47.989550Z",
     "start_time": "2024-03-04T21:07:47.891374Z"
    },
    "collapsed": false
   },
   "outputs": [
    {
     "name": "stderr",
     "output_type": "stream",
     "text": [
      "/var/folders/pc/01wnjzvx01n_gqvkhmw2_9nr0000gn/T/ipykernel_92164/3623739010.py:3: UserWarning: FigureCanvasAgg is non-interactive, and thus cannot be shown\n",
      "  fig.show()\n"
     ]
    },
    {
     "data": {
      "image/png": "[encoded data removed]",
      "text/plain": [
       "<Figure size 800x500 with 1 Axes>"
      ]
     },
     "metadata": {},
     "output_type": "display_data"
    }
   ],
   "source": [
    "qlayer = qml.qnn.TorchLayer(circuit, {\"weights\": (n_weights,)})\n",
    "fig, ax = qml.draw_mpl(circuit)([1.0,4,54,44], [1,2,3,4,5,123,2,23,1,1,1,1,1,1])\n",
    "fig.show()"
   ]
  },
  {
   "cell_type": "code",
   "execution_count": 7,
   "id": "27338bc4181923cc",
   "metadata": {
    "ExecuteTime": {
     "end_time": "2024-03-04T21:07:47.993656Z",
     "start_time": "2024-03-04T21:07:47.989667Z"
    },
    "collapsed": false
   },
   "outputs": [],
   "source": [
    "def extract_image_patches(x):\n",
    "    # Do TF 'SAME' Padding\n",
    "    B, C, H, W = x.shape  \n",
    "    #x = torch.arange(B*C*H*W).view(B, C, H, W)\n",
    "    kernel_h, kernel_w = 2, 2\n",
    "    stride = 2\n",
    "\n",
    "    patches = x.unfold(2, kernel_h, stride).unfold(3, kernel_w, stride)\n",
    "      \n",
    "    patches = patches.contiguous().view(B, H // stride, W // stride, -1)\n",
    "\n",
    "    return patches.reshape(-1, 4)"
   ]
  },
  {
   "cell_type": "code",
   "execution_count": 8,
   "id": "26ce0a88",
   "metadata": {},
   "outputs": [],
   "source": [
    "dim = resized_x // 2\n",
    "class HQNN(nn.Module):\n",
    "    def __init__(self):\n",
    "        super(HQNN, self).__init__()\n",
    "\n",
    "        # Quanvolutional layer (Maps 1 input channel to 4 output channels)\n",
    "        self.quanv = qlayer\n",
    "\n",
    "        # Fully connected layer to perform the final classification\n",
    "        self.fc1 = nn.Linear(dim * dim * 4, 10)  # Assuming 10 output classes\n",
    "\n",
    "    def forward(self, input):\n",
    "        patches = extract_image_patches(input)  \n",
    "\n",
    "        quanvoluted_patches = torch.stack([self.quanv(patch) for patch in patches])\n",
    "        x = quanvoluted_patches.reshape(input.shape[0], dim, dim, 4)\n",
    "\n",
    "        x = x.view(-1, dim * dim * 4)  # Flatten for the fully connected layer\n",
    "        x = self.fc1(x)\n",
    "        x = F.softmax(x, dim=1)  # Apply softmax\n",
    "        return x"
   ]
  },
  {
   "cell_type": "code",
   "execution_count": 9,
   "id": "845d324d60df85ba",
   "metadata": {
    "ExecuteTime": {
     "start_time": "2024-03-04T21:07:48.016520Z"
    },
    "collapsed": false,
    "is_executing": true
   },
   "outputs": [
    {
     "name": "stdout",
     "output_type": "stream",
     "text": [
      "Number of training samples: 500\n",
      "Number of test samples: 100\n"
     ]
    }
   ],
   "source": [
    "loss_fn = F.cross_entropy\n",
    "train_loader, test_loader = load_dataset(n_train, n_test, batch_size)"
   ]
  },
  {
   "cell_type": "code",
   "execution_count": 10,
   "id": "33e817aeef940c8",
   "metadata": {
    "collapsed": false,
    "is_executing": true
   },
   "outputs": [],
   "source": [
    "def append_data_to_markdown_table(file_path, circuit, lr, gamma, batch_size, val_loss, val_acc):\n",
    "    \"\"\"\n",
    "    Appends variables to an existing Markdown table in a file, formatting floats to 3 decimal places.\n",
    "\n",
    "    Args:\n",
    "        file_path (str): The path to the Markdown file.\n",
    "        lr (float): The learning rate value.\n",
    "        gamma (float): The gamma value.\n",
    "        batch_size (int): The batch size value.\n",
    "        val_loss (float): The validation loss value.\n",
    "        val_acc (float): The validation accuracy value.\n",
    "    \"\"\"\n",
    "\n",
    "    with open(file_path, 'a') as f:  # Open the file in append mode\n",
    "        row = f\"| {circuit} | {lr:.3f} | {gamma:.3f} | {batch_size} | {val_loss:.3f} | {val_acc:.3f} |\\n\"\n",
    "        f.write(row)  # Write the new row of data\n"
   ]
  },
  {
   "cell_type": "code",
   "execution_count": 11,
   "id": "45bddaae",
   "metadata": {},
   "outputs": [
    {
     "name": "stdout",
     "output_type": "stream",
     "text": [
      "[i] Val Loss: 1.9299\t Val Accuracy: 51.00%\n",
      "[i] Val Loss: 1.9257\t Val Accuracy: 52.00%\n",
      "[i] Val Loss: 1.9312\t Val Accuracy: 51.00%\n",
      "[i] Val Loss: 1.9325\t Val Accuracy: 51.00%\n",
      "[i] Val Loss: 1.9316\t Val Accuracy: 51.00%\n",
      "[i] Val Loss: 1.9272\t Val Accuracy: 51.00%\n",
      "[i] Val Loss: 1.9341\t Val Accuracy: 51.00%\n",
      "[i] Val Loss: 1.9548\t Val Accuracy: 49.00%\n",
      "[i] Val Loss: 1.9546\t Val Accuracy: 49.00%\n",
      "[i] Val Loss: 1.9542\t Val Accuracy: 48.00%\n",
      "[i] Val Loss: 1.9276\t Val Accuracy: 50.00%\n",
      "[i] Val Loss: 1.9320\t Val Accuracy: 50.00%\n",
      "[i] Val Loss: 1.9387\t Val Accuracy: 51.00%\n",
      "[i] Val Loss: 1.9403\t Val Accuracy: 50.00%\n",
      "[i] Val Loss: 1.9410\t Val Accuracy: 50.00%\n",
      "[i] Val Loss: 1.9303\t Val Accuracy: 56.00%\n",
      "[i] Val Loss: 1.9151\t Val Accuracy: 56.00%\n",
      "[i] Val Loss: 1.9256\t Val Accuracy: 54.00%\n",
      "[i] Val Loss: 1.9259\t Val Accuracy: 54.00%\n",
      "[i] Val Loss: 1.9260\t Val Accuracy: 54.00%\n",
      "[i] Val Loss: 1.9209\t Val Accuracy: 54.00%\n",
      "[i] Val Loss: 1.9346\t Val Accuracy: 52.00%\n",
      "[i] Val Loss: 1.9418\t Val Accuracy: 51.00%\n",
      "[i] Val Loss: 1.9433\t Val Accuracy: 51.00%\n",
      "[i] Val Loss: 1.9462\t Val Accuracy: 49.00%\n",
      "[i] Val Loss: 2.1037\t Val Accuracy: 47.00%\n",
      "[i] Val Loss: 2.0127\t Val Accuracy: 51.00%\n",
      "[i] Val Loss: 1.9695\t Val Accuracy: 53.00%\n",
      "[i] Val Loss: 1.9461\t Val Accuracy: 55.00%\n",
      "[i] Val Loss: 1.9308\t Val Accuracy: 56.00%\n",
      "[i] Val Loss: 1.9451\t Val Accuracy: 56.00%\n",
      "[i] Val Loss: 1.9223\t Val Accuracy: 51.00%\n",
      "[i] Val Loss: 1.9269\t Val Accuracy: 52.00%\n",
      "[i] Val Loss: 1.9256\t Val Accuracy: 53.00%\n",
      "[i] Val Loss: 1.9248\t Val Accuracy: 52.00%\n",
      "[i] Val Loss: 1.9344\t Val Accuracy: 53.00%\n",
      "[i] Val Loss: 1.9198\t Val Accuracy: 54.00%\n",
      "[i] Val Loss: 1.9159\t Val Accuracy: 54.00%\n",
      "[i] Val Loss: 1.9317\t Val Accuracy: 53.00%\n",
      "[i] Val Loss: 1.9330\t Val Accuracy: 51.00%\n",
      "[i] Val Loss: 1.9760\t Val Accuracy: 53.00%\n",
      "[i] Val Loss: 1.9308\t Val Accuracy: 56.00%\n",
      "[i] Val Loss: 1.9221\t Val Accuracy: 55.00%\n",
      "[i] Val Loss: 1.9295\t Val Accuracy: 54.00%\n",
      "[i] Val Loss: 1.9251\t Val Accuracy: 53.00%\n",
      "[i] Val Loss: 1.9997\t Val Accuracy: 57.00%\n",
      "[i] Val Loss: 1.9616\t Val Accuracy: 55.00%\n",
      "[i] Val Loss: 1.9504\t Val Accuracy: 54.00%\n",
      "[i] Val Loss: 1.9461\t Val Accuracy: 54.00%\n",
      "[i] Val Loss: 1.9442\t Val Accuracy: 55.00%\n"
     ]
    }
   ],
   "source": [
    "lr_values    = [0.01, 0.01, 0.01, 0.007, 0.007, 0.001, 0.005, 0.005, 0.003, 0.003]\n",
    "gamma_values = [0.96, 0.98, 0.96, 0.96, 0.98, 1, 0.96, 0.98, 0.98, 0.96]\n",
    "\n",
    "for lr, gamma in zip(lr_values, gamma_values):\n",
    "    model = HQNN() \n",
    "    optimizer = torch.optim.Adam(model.parameters(), lr =lr)\n",
    "    scheduler = torch.optim.lr_scheduler.ExponentialLR(optimizer, gamma=gamma) \n",
    "    for _ in range(5):\n",
    "        for epoch in range(n_epochs):\n",
    "            # ---- Training Phase ----\n",
    "            running_loss = 0.0 \n",
    "            correct = 0  \n",
    "            total = 0\n",
    "            train_losses = []\n",
    "            test_losses = []\n",
    "            start_time = time.time()\n",
    "            for i, (images, labels) in enumerate(train_loader):\n",
    "                # --- 2. Forward Pass ---\n",
    "                outputs = model(images)\n",
    "\n",
    "                # --- 3. Loss Calculation ---\n",
    "                loss = loss_fn(outputs, labels)\n",
    "                train_losses.append(loss.item())\n",
    "                # --- 4. Backpropagation and Optimization ---\n",
    "                optimizer.zero_grad()\n",
    "                loss.backward()\n",
    "                optimizer.step()\n",
    "\n",
    "                running_loss += loss.item()  \n",
    "                train_losses.append(loss.item())  # Store loss for each batch\n",
    "\n",
    "                # Accuracy calculation for the epoch\n",
    "                _, predicted = torch.max(outputs.data, 1) \n",
    "                total += labels.size(0)\n",
    "                correct += (predicted == labels).sum().item()\n",
    "            scheduler.step() \n",
    "\n",
    "            # Print statistics for the epoch\n",
    "            epoch_loss = sum(train_losses) / len(train_losses)  \n",
    "            epoch_acc = 100 * correct / total \n",
    "\n",
    "            current_lr = scheduler.get_last_lr()[0]  \n",
    "\n",
    "            # Periodic Evaluation and Logging\n",
    "            #print(f'[i] Epoch {epoch + 1}\\n\\tLoss: {epoch_loss:.4f}\\tAccuracy: {epoch_acc :.2f}%\\n\\tElapsed Time: {time.time() - start_time:.2f}s')\n",
    "            #print(f'\\tLearning Rate: {current_lr}\\n')\n",
    "\n",
    "        model.eval()  # Set model to evaluation mode\n",
    "        val_loss = 0.0\n",
    "        val_corrects = 0\n",
    "\n",
    "        with torch.no_grad():  # Disable gradients for evaluation\n",
    "            val_correct = 0\n",
    "            val_total = 0\n",
    "\n",
    "            for images, labels in test_loader:\n",
    "                outputs = model(images)\n",
    "                loss = loss_fn(outputs, labels)\n",
    "                test_losses.append(loss.item())\n",
    "\n",
    "                _, predicted = torch.max(outputs.data, 1)\n",
    "                val_total += labels.size(0)\n",
    "                val_correct += (predicted == labels).sum().item()\n",
    "\n",
    "        val_loss = sum(test_losses) / len(test_losses)\n",
    "        val_acc = 100 * val_correct / val_total \n",
    "\n",
    "        print(f'[i] Val Loss: {val_loss:.4f}\\t Val Accuracy: {val_acc :.2f}%')\n",
    "        append_data_to_markdown_table(\"results500.md\", \"c7\", lr, gamma, batch_size, val_loss, val_acc)"
   ]
  },
  {
   "cell_type": "markdown",
   "id": "a6bb0602",
   "metadata": {},
   "source": []
  }
 ],
 "metadata": {
  "kernelspec": {
   "display_name": "Python 3",
   "language": "python",
   "name": "python3"
  },
  "language_info": {
   "codemirror_mode": {
    "name": "ipython",
    "version": 3
   },
   "file_extension": ".py",
   "mimetype": "text/x-python",
   "name": "python",
   "nbconvert_exporter": "python",
   "pygments_lexer": "ipython3",
   "version": "3.11.8"
  }
 },
 "nbformat": 4,
 "nbformat_minor": 5
}
